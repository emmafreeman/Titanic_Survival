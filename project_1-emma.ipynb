{
 "cells": [
  {
   "cell_type": "code",
   "execution_count": 1,
   "metadata": {
    "collapsed": false,
    "deletable": true,
    "editable": true
   },
   "outputs": [],
   "source": [
    "import numpy as np\n",
    "import psycopg2 as psy\n",
    "import pandas as pd\n",
    "import scipy as sp\n",
    "import seaborn as sns\n",
    "\n",
    "import matplotlib.pyplot as plt\n",
    "from sklearn.preprocessing import LabelEncoder, OneHotEncoder, StandardScaler\n",
    "from IPython.display import display\n",
    "\n",
    "%matplotlib inline\n",
    "pd.options.display.precision = 4"
   ]
  },
  {
   "cell_type": "markdown",
   "metadata": {
    "deletable": true,
    "editable": true
   },
   "source": [
    "## 1. Verify Database Connection By Displaying First 5 Rows with Column Heads"
   ]
  },
  {
   "cell_type": "code",
   "execution_count": 2,
   "metadata": {
    "collapsed": true,
    "deletable": true,
    "editable": true
   },
   "outputs": [],
   "source": [
    "from lib.database_helper import connect_and_cursor, execute_query, sql_to_df"
   ]
  },
  {
   "cell_type": "markdown",
   "metadata": {
    "deletable": true,
    "editable": true
   },
   "source": [
    "You have three helper functions you can use to do this:\n",
    "\n",
    "- `connect_and_cursor`\n",
    "  - takes three arguments: \n",
    "     - `this_host`\n",
    "     - `this_user`\n",
    "     - `this_password`\n",
    "  - returns two objects\n",
    "     - a `connection` to the database\n",
    "     - a read/write `cursor` to the database\n",
    "  - e.g. \n",
    "  \n",
    "    ```\n",
    "    connection, cursor = connect_and_cursor('michaelgfrantz.com', 'postgres', 'dsism4')\n",
    "    ```\n",
    "- `execute_query`\n",
    "  - takes three arguments\n",
    "    - a database `connection`\n",
    "    - a database `cursor`\n",
    "    - a SQL `query`\n",
    "  - if the query is successful\n",
    "     - returns `None`\n",
    "     - the results are available via the cursor\n",
    "  - e.g. \n",
    " \n",
    "    ```\n",
    "    execute_query(connection, cursor, \"SELECT * FROM titanic LIMIT 5;\"\n",
    "    query_results = cursor.fetchall()\n",
    "    ```\n",
    "  - if the query is unsuccessful returns an error message   \n",
    "- `sql_to_df`\n",
    "  - has one required argument (a `cursor.fetchall()`) and a second optional argument (a `list` of column headers)\n",
    "  - returns the results of the query as a DataFrame \n",
    "  - e.g.\n",
    "  \n",
    "    ```\n",
    "    sql_to_df(query_results)\n",
    "    ```"
   ]
  },
  {
   "cell_type": "markdown",
   "metadata": {
    "deletable": true,
    "editable": true
   },
   "source": [
    "### Use the helper functions to display the first 5 rows of the table\n",
    "\n",
    "You should use the following pattern to connect:\n",
    "\n",
    "    connection, cursor = connect_and_cursor('michaelgfrantz.com', 'postgres', 'dsism4')\n",
    "    execute_query(connection, cursor, \"SELECT * FROM titanic LIMIT 5;\"\n",
    "    query_results = cursor.fetchall()\n",
    "    sql_to_df(query_results)\n",
    "    connection.close()\n",
    "    ```\n",
    "    \n",
    "Note that we have made sure to `close` the connection. This is considered a best practice.    "
   ]
  },
  {
   "cell_type": "code",
   "execution_count": 3,
   "metadata": {
    "collapsed": false,
    "deletable": true,
    "editable": true
   },
   "outputs": [
    {
     "data": {
      "text/html": [
       "<div>\n",
       "<table border=\"1\" class=\"dataframe\">\n",
       "  <thead>\n",
       "    <tr style=\"text-align: right;\">\n",
       "      <th></th>\n",
       "      <th>some col</th>\n",
       "      <th>srv</th>\n",
       "      <th>name</th>\n",
       "      <th>sex</th>\n",
       "      <th>age</th>\n",
       "      <th>other</th>\n",
       "      <th>foo</th>\n",
       "      <th>body</th>\n",
       "      <th>fare</th>\n",
       "      <th>ticket</th>\n",
       "      <th>embarked</th>\n",
       "      <th>parch</th>\n",
       "      <th>baskets</th>\n",
       "      <th>destination</th>\n",
       "    </tr>\n",
       "  </thead>\n",
       "  <tbody>\n",
       "    <tr>\n",
       "      <th>0</th>\n",
       "      <td>1</td>\n",
       "      <td>1</td>\n",
       "      <td>Allen, Miss. Elisabeth Walton</td>\n",
       "      <td>female</td>\n",
       "      <td>29.0000</td>\n",
       "      <td>0</td>\n",
       "      <td>0</td>\n",
       "      <td>24160</td>\n",
       "      <td>211.3375</td>\n",
       "      <td>B5</td>\n",
       "      <td>S</td>\n",
       "      <td>2</td>\n",
       "      <td>NaN</td>\n",
       "      <td>St Louis, MO</td>\n",
       "    </tr>\n",
       "    <tr>\n",
       "      <th>1</th>\n",
       "      <td>1</td>\n",
       "      <td>1</td>\n",
       "      <td>Allison, Master. Hudson Trevor</td>\n",
       "      <td>male</td>\n",
       "      <td>0.9167</td>\n",
       "      <td>1</td>\n",
       "      <td>2</td>\n",
       "      <td>113781</td>\n",
       "      <td>151.5500</td>\n",
       "      <td>C22 C26</td>\n",
       "      <td>S</td>\n",
       "      <td>11</td>\n",
       "      <td>NaN</td>\n",
       "      <td>Montreal, PQ / Chesterville, ON</td>\n",
       "    </tr>\n",
       "    <tr>\n",
       "      <th>2</th>\n",
       "      <td>1</td>\n",
       "      <td>0</td>\n",
       "      <td>Allison, Miss. Helen Loraine</td>\n",
       "      <td>female</td>\n",
       "      <td>2.0000</td>\n",
       "      <td>1</td>\n",
       "      <td>2</td>\n",
       "      <td>113781</td>\n",
       "      <td>151.5500</td>\n",
       "      <td>C22 C26</td>\n",
       "      <td>S</td>\n",
       "      <td>None</td>\n",
       "      <td>NaN</td>\n",
       "      <td>Montreal, PQ / Chesterville, ON</td>\n",
       "    </tr>\n",
       "    <tr>\n",
       "      <th>3</th>\n",
       "      <td>1</td>\n",
       "      <td>0</td>\n",
       "      <td>Allison, Mr. Hudson Joshua Creighton</td>\n",
       "      <td>male</td>\n",
       "      <td>30.0000</td>\n",
       "      <td>1</td>\n",
       "      <td>2</td>\n",
       "      <td>113781</td>\n",
       "      <td>151.5500</td>\n",
       "      <td>C22 C26</td>\n",
       "      <td>S</td>\n",
       "      <td>None</td>\n",
       "      <td>135.0</td>\n",
       "      <td>Montreal, PQ / Chesterville, ON</td>\n",
       "    </tr>\n",
       "    <tr>\n",
       "      <th>4</th>\n",
       "      <td>1</td>\n",
       "      <td>0</td>\n",
       "      <td>Allison, Mrs. Hudson J C (Bessie Waldo Daniels)</td>\n",
       "      <td>female</td>\n",
       "      <td>25.0000</td>\n",
       "      <td>1</td>\n",
       "      <td>2</td>\n",
       "      <td>113781</td>\n",
       "      <td>151.5500</td>\n",
       "      <td>C22 C26</td>\n",
       "      <td>S</td>\n",
       "      <td>None</td>\n",
       "      <td>NaN</td>\n",
       "      <td>Montreal, PQ / Chesterville, ON</td>\n",
       "    </tr>\n",
       "  </tbody>\n",
       "</table>\n",
       "</div>"
      ],
      "text/plain": [
       "   some col  srv                                             name     sex  \\\n",
       "0         1    1                    Allen, Miss. Elisabeth Walton  female   \n",
       "1         1    1                   Allison, Master. Hudson Trevor    male   \n",
       "2         1    0                     Allison, Miss. Helen Loraine  female   \n",
       "3         1    0             Allison, Mr. Hudson Joshua Creighton    male   \n",
       "4         1    0  Allison, Mrs. Hudson J C (Bessie Waldo Daniels)  female   \n",
       "\n",
       "       age  other  foo    body      fare   ticket embarked parch  baskets  \\\n",
       "0  29.0000      0    0   24160  211.3375       B5        S     2      NaN   \n",
       "1   0.9167      1    2  113781  151.5500  C22 C26        S    11      NaN   \n",
       "2   2.0000      1    2  113781  151.5500  C22 C26        S  None      NaN   \n",
       "3  30.0000      1    2  113781  151.5500  C22 C26        S  None    135.0   \n",
       "4  25.0000      1    2  113781  151.5500  C22 C26        S  None      NaN   \n",
       "\n",
       "                       destination  \n",
       "0                     St Louis, MO  \n",
       "1  Montreal, PQ / Chesterville, ON  \n",
       "2  Montreal, PQ / Chesterville, ON  \n",
       "3  Montreal, PQ / Chesterville, ON  \n",
       "4  Montreal, PQ / Chesterville, ON  "
      ]
     },
     "metadata": {},
     "output_type": "display_data"
    }
   ],
   "source": [
    "connection, cursor = connect_and_cursor('michaelgfrantz.com', 'postgres', 'dsism4')\n",
    "execute_query(connection, cursor, \"SELECT * FROM titanic LIMIT 5;\")\n",
    "query_results = cursor.fetchall()\n",
    "display(sql_to_df(query_results, columns=['some col', 'srv', 'name', \n",
    "                                  'sex', 'age', 'other', 'foo', \n",
    "                                  'body', 'fare', 'ticket', 'embarked',\n",
    "                                  'parch', 'baskets', 'destination']))\n",
    "connection.close()"
   ]
  },
  {
   "cell_type": "markdown",
   "metadata": {
    "deletable": true,
    "editable": true
   },
   "source": [
    "### Get the column names and data types for the `titanic` table"
   ]
  },
  {
   "cell_type": "code",
   "execution_count": 4,
   "metadata": {
    "collapsed": false,
    "deletable": true,
    "editable": true
   },
   "outputs": [
    {
     "data": {
      "text/plain": [
       "[('pclass', 'integer'),\n",
       " ('survived', 'integer'),\n",
       " ('name', 'text'),\n",
       " ('sex', 'text'),\n",
       " ('age', 'double precision'),\n",
       " ('sibsp', 'integer'),\n",
       " ('parch', 'integer'),\n",
       " ('ticket', 'text'),\n",
       " ('fare', 'double precision'),\n",
       " ('cabin', 'text'),\n",
       " ('embarked', 'text'),\n",
       " ('boat', 'text'),\n",
       " ('body', 'integer'),\n",
       " ('home_dest', 'text')]"
      ]
     },
     "execution_count": 4,
     "metadata": {},
     "output_type": "execute_result"
    }
   ],
   "source": [
    "connection, cursor = connect_and_cursor('michaelgfrantz.com', 'postgres', 'dsism4')\n",
    "execute_query(connection, cursor, \n",
    "              \"\"\"\n",
    "              SELECT column_name, data_type\n",
    "              FROM information_schema.columns\n",
    "              WHERE table_name = 'titanic';\n",
    "              \"\"\")\n",
    "cols_dtypes = cursor.fetchall()\n",
    "connection.close()\n",
    "cols_dtypes"
   ]
  },
  {
   "cell_type": "markdown",
   "metadata": {
    "deletable": true,
    "editable": true
   },
   "source": [
    "### Use a sql query to get the columns names as a python list"
   ]
  },
  {
   "cell_type": "code",
   "execution_count": 5,
   "metadata": {
    "collapsed": false,
    "deletable": true,
    "editable": true
   },
   "outputs": [
    {
     "data": {
      "text/plain": [
       "['pclass',\n",
       " 'survived',\n",
       " 'name',\n",
       " 'sex',\n",
       " 'age',\n",
       " 'sibsp',\n",
       " 'parch',\n",
       " 'ticket',\n",
       " 'fare',\n",
       " 'cabin',\n",
       " 'embarked',\n",
       " 'boat',\n",
       " 'body',\n",
       " 'home_dest']"
      ]
     },
     "execution_count": 5,
     "metadata": {},
     "output_type": "execute_result"
    }
   ],
   "source": [
    "connection, cursor = connect_and_cursor('michaelgfrantz.com', 'postgres', 'dsism4')\n",
    "execute_query(connection, cursor, \n",
    "              \"\"\"\n",
    "              SELECT column_name, data_type\n",
    "              FROM information_schema.columns\n",
    "              WHERE table_name = 'titanic';\n",
    "              \"\"\")\n",
    "cols_list = [elem[0] for elem in cursor.fetchall()]\n",
    "connection.close()\n",
    "\n",
    "cols_list"
   ]
  },
  {
   "cell_type": "markdown",
   "metadata": {
    "deletable": true,
    "editable": true
   },
   "source": [
    "### Use this list to add headers to the table when you pass it to `sql_to_df`"
   ]
  },
  {
   "cell_type": "code",
   "execution_count": 6,
   "metadata": {
    "collapsed": false,
    "deletable": true,
    "editable": true
   },
   "outputs": [],
   "source": [
    "connection, cursor = connect_and_cursor('michaelgfrantz.com', 'postgres', 'dsism4')\n",
    "execute_query(connection, cursor, \"SELECT * FROM titanic;\")\n",
    "query_results = cursor.fetchall()\n",
    "sql_to_df(query_results, columns=cols_list)\n",
    "connection.close()"
   ]
  },
  {
   "cell_type": "markdown",
   "metadata": {
    "deletable": true,
    "editable": true
   },
   "source": [
    "## 2. Use SQL queries to get a statistical summary of the `titanic` table"
   ]
  },
  {
   "cell_type": "markdown",
   "metadata": {
    "deletable": true,
    "editable": true
   },
   "source": [
    "### Use `GROUP BY` to count survival \n",
    "\n",
    "Your query should be able to use this column list: `['survived', 'count']`"
   ]
  },
  {
   "cell_type": "code",
   "execution_count": 7,
   "metadata": {
    "collapsed": false,
    "deletable": true,
    "editable": true
   },
   "outputs": [
    {
     "data": {
      "text/html": [
       "<div>\n",
       "<table border=\"1\" class=\"dataframe\">\n",
       "  <thead>\n",
       "    <tr style=\"text-align: right;\">\n",
       "      <th></th>\n",
       "      <th>survived</th>\n",
       "      <th>count</th>\n",
       "    </tr>\n",
       "  </thead>\n",
       "  <tbody>\n",
       "    <tr>\n",
       "      <th>0</th>\n",
       "      <td>0</td>\n",
       "      <td>809</td>\n",
       "    </tr>\n",
       "    <tr>\n",
       "      <th>1</th>\n",
       "      <td>1</td>\n",
       "      <td>500</td>\n",
       "    </tr>\n",
       "  </tbody>\n",
       "</table>\n",
       "</div>"
      ],
      "text/plain": [
       "   survived  count\n",
       "0         0    809\n",
       "1         1    500"
      ]
     },
     "metadata": {},
     "output_type": "display_data"
    }
   ],
   "source": [
    "connection, cursor = connect_and_cursor('michaelgfrantz.com', 'postgres', 'dsism4')\n",
    "execute_query(connection, cursor, \n",
    "              \"\"\"\n",
    "              SELECT survived, COUNT(survived)\n",
    "              FROM titanic\n",
    "              GROUP BY survived;\n",
    "              \"\"\")\n",
    "query_results = cursor.fetchall()\n",
    "display(sql_to_df(query_results, columns=['survived', 'count']))\n",
    "\n",
    "connection.close()"
   ]
  },
  {
   "cell_type": "markdown",
   "metadata": {
    "deletable": true,
    "editable": true
   },
   "source": [
    "### Calculate the survival rate\n",
    "\n",
    "Your query should be able to use this column list: `['survival rate']`"
   ]
  },
  {
   "cell_type": "code",
   "execution_count": 8,
   "metadata": {
    "collapsed": false,
    "deletable": true,
    "editable": true
   },
   "outputs": [
    {
     "data": {
      "text/html": [
       "<div>\n",
       "<table border=\"1\" class=\"dataframe\">\n",
       "  <thead>\n",
       "    <tr style=\"text-align: right;\">\n",
       "      <th></th>\n",
       "      <th>survival rate</th>\n",
       "    </tr>\n",
       "  </thead>\n",
       "  <tbody>\n",
       "    <tr>\n",
       "      <th>0</th>\n",
       "      <td>0.38</td>\n",
       "    </tr>\n",
       "  </tbody>\n",
       "</table>\n",
       "</div>"
      ],
      "text/plain": [
       "  survival rate\n",
       "0          0.38"
      ]
     },
     "metadata": {},
     "output_type": "display_data"
    }
   ],
   "source": [
    "connection, cursor = connect_and_cursor('michaelgfrantz.com', 'postgres', 'dsism4')\n",
    "execute_query(connection, cursor, \n",
    "              \"\"\"\n",
    "              SELECT ROUND(COUNT((survived = '1') OR NULL)/COUNT(survived)::numeric, 2)\n",
    "              FROM titanic\n",
    "              \"\"\")\n",
    "query_results = cursor.fetchall()\n",
    "display(sql_to_df(query_results, columns=['survival rate']))\n",
    "\n",
    "connection.close()"
   ]
  },
  {
   "cell_type": "markdown",
   "metadata": {
    "deletable": true,
    "editable": true
   },
   "source": [
    "### Use a Group By to calculate the survival rate by `sex`\n",
    "\n",
    "Your query should be able to use this column list: `['sex', 'survival rate']`"
   ]
  },
  {
   "cell_type": "code",
   "execution_count": 9,
   "metadata": {
    "collapsed": false,
    "deletable": true,
    "editable": true
   },
   "outputs": [
    {
     "data": {
      "text/html": [
       "<div>\n",
       "<table border=\"1\" class=\"dataframe\">\n",
       "  <thead>\n",
       "    <tr style=\"text-align: right;\">\n",
       "      <th></th>\n",
       "      <th>sex</th>\n",
       "      <th>survival rate</th>\n",
       "    </tr>\n",
       "  </thead>\n",
       "  <tbody>\n",
       "    <tr>\n",
       "      <th>0</th>\n",
       "      <td>female</td>\n",
       "      <td>0.73</td>\n",
       "    </tr>\n",
       "    <tr>\n",
       "      <th>1</th>\n",
       "      <td>male</td>\n",
       "      <td>0.19</td>\n",
       "    </tr>\n",
       "  </tbody>\n",
       "</table>\n",
       "</div>"
      ],
      "text/plain": [
       "      sex survival rate\n",
       "0  female          0.73\n",
       "1    male          0.19"
      ]
     },
     "metadata": {},
     "output_type": "display_data"
    }
   ],
   "source": [
    "connection, cursor = connect_and_cursor('michaelgfrantz.com', 'postgres', 'dsism4')\n",
    "execute_query(connection, cursor, \n",
    "              \"\"\"\n",
    "              SELECT sex, ROUND(COUNT((survived = '1') OR NULL)/COUNT(survived)::numeric, 2)\n",
    "              FROM titanic\n",
    "              GROUP BY sex\n",
    "              \"\"\")\n",
    "query_results = cursor.fetchall()\n",
    "display(sql_to_df(query_results, columns=['sex', 'survival rate']))\n",
    "\n",
    "connection.close()"
   ]
  },
  {
   "cell_type": "markdown",
   "metadata": {
    "deletable": true,
    "editable": true
   },
   "source": [
    "### Calculate the mean and standard deviation for the following columns grouped by survival\n",
    "\n",
    "Make sure you round to two decimal places:\n",
    "\n",
    "- `pclass`\n",
    "- `age`\n",
    "- `sibsp`\n",
    "- `parch`\n",
    "- `fare`\n",
    "\n",
    "Your query should be able to use this column list: \n",
    "\n",
    "`['survived', 'avg_pclass','std_pclass', 'avg_age','std_age', 'avg_sibsp',\n",
    "  'std_sibsp', 'avg_parch','std_parch', 'avg_fare','std_fare']`"
   ]
  },
  {
   "cell_type": "code",
   "execution_count": 10,
   "metadata": {
    "collapsed": false,
    "deletable": true,
    "editable": true
   },
   "outputs": [
    {
     "data": {
      "text/html": [
       "<div>\n",
       "<table border=\"1\" class=\"dataframe\">\n",
       "  <thead>\n",
       "    <tr style=\"text-align: right;\">\n",
       "      <th></th>\n",
       "      <th>survived</th>\n",
       "      <th>avg_pclass</th>\n",
       "      <th>std_pclass</th>\n",
       "      <th>avg_age</th>\n",
       "      <th>std_age</th>\n",
       "      <th>avg_sibsp</th>\n",
       "      <th>std_sibsp</th>\n",
       "      <th>avg_parch</th>\n",
       "      <th>std_parch</th>\n",
       "      <th>avg_fare</th>\n",
       "      <th>std_fare</th>\n",
       "    </tr>\n",
       "  </thead>\n",
       "  <tbody>\n",
       "    <tr>\n",
       "      <th>0</th>\n",
       "      <td>0</td>\n",
       "      <td>2.50</td>\n",
       "      <td>0.74</td>\n",
       "      <td>30.55</td>\n",
       "      <td>13.92</td>\n",
       "      <td>0.52</td>\n",
       "      <td>1.21</td>\n",
       "      <td>0.33</td>\n",
       "      <td>0.91</td>\n",
       "      <td>23.35</td>\n",
       "      <td>34.15</td>\n",
       "    </tr>\n",
       "    <tr>\n",
       "      <th>1</th>\n",
       "      <td>1</td>\n",
       "      <td>1.96</td>\n",
       "      <td>0.87</td>\n",
       "      <td>28.92</td>\n",
       "      <td>15.06</td>\n",
       "      <td>0.46</td>\n",
       "      <td>0.69</td>\n",
       "      <td>0.48</td>\n",
       "      <td>0.78</td>\n",
       "      <td>49.36</td>\n",
       "      <td>68.65</td>\n",
       "    </tr>\n",
       "  </tbody>\n",
       "</table>\n",
       "</div>"
      ],
      "text/plain": [
       "   survived avg_pclass std_pclass avg_age std_age avg_sibsp std_sibsp  \\\n",
       "0         0       2.50       0.74   30.55   13.92      0.52      1.21   \n",
       "1         1       1.96       0.87   28.92   15.06      0.46      0.69   \n",
       "\n",
       "  avg_parch std_parch avg_fare std_fare  \n",
       "0      0.33      0.91    23.35    34.15  \n",
       "1      0.48      0.78    49.36    68.65  "
      ]
     },
     "metadata": {},
     "output_type": "display_data"
    }
   ],
   "source": [
    "connection, cursor = connect_and_cursor('michaelgfrantz.com', 'postgres', 'dsism4')\n",
    "execute_query(connection, cursor, \n",
    "              \"\"\"\n",
    "              SELECT survived,\n",
    "              ROUND(AVG(pclass)::numeric, 2), \n",
    "              ROUND(STDDEV(pclass)::numeric, 2),\n",
    "              ROUND(AVG(age)::numeric, 2), \n",
    "              ROUND(STDDEV(age)::numeric, 2),\n",
    "              ROUND(AVG(sibsp)::numeric, 2), \n",
    "              ROUND(STDDEV(sibsp)::numeric, 2),\n",
    "              ROUND(AVG(parch)::numeric, 2), \n",
    "              ROUND(STDDEV(parch)::numeric, 2),\n",
    "              ROUND(AVG(fare)::numeric, 2), \n",
    "              ROUND(STDDEV(fare)::numeric, 2)\n",
    "              FROM titanic\n",
    "              GROUP BY survived;\n",
    "              \"\"\")\n",
    "query_results = cursor.fetchall()\n",
    "display(sql_to_df(query_results, columns=['survived', 'avg_pclass','std_pclass', 'avg_age','std_age', 'avg_sibsp',\n",
    "  'std_sibsp', 'avg_parch','std_parch', 'avg_fare','std_fare']))\n",
    "connection.close()\n"
   ]
  },
  {
   "cell_type": "markdown",
   "metadata": {
    "deletable": true,
    "editable": true
   },
   "source": [
    "## 3. Hypothesis testing\n",
    "\n",
    "### Prepare a Hypothesis Test with regard to the normality of the distribution of `age` in the `titanic` table\n",
    "1. Write a sql query to get all ages that are not `NULL`. \n",
    "1. State your null and alternate hypothesis.\n",
    "2. Use `scipy.stats.normaltest` to run a t-test using the ages, state your t-statistic and p-value.\n",
    "3. Interpret your p-value. "
   ]
  },
  {
   "cell_type": "code",
   "execution_count": 11,
   "metadata": {
    "collapsed": false,
    "deletable": true,
    "editable": true
   },
   "outputs": [],
   "source": [
    "connection, cursor = connect_and_cursor('michaelgfrantz.com', 'postgres', 'dsism4')\n",
    "execute_query(connection, cursor, \n",
    "              \"\"\"\n",
    "              SELECT age\n",
    "              FROM titanic\n",
    "              WHERE age IS NOT NULL\n",
    "              \"\"\")\n",
    "query_results = cursor.fetchall()\n",
    "\n",
    "connection.close()"
   ]
  },
  {
   "cell_type": "markdown",
   "metadata": {
    "deletable": true,
    "editable": true
   },
   "source": [
    "Null hypothesis: age is normally distributed\n",
    "Alternative hypothesis: age is not normally distributed"
   ]
  },
  {
   "cell_type": "code",
   "execution_count": 12,
   "metadata": {
    "collapsed": false,
    "deletable": true,
    "editable": true
   },
   "outputs": [
    {
     "data": {
      "text/plain": [
       "NormaltestResult(statistic=array([ 28.1676368]), pvalue=array([  7.64672347e-07]))"
      ]
     },
     "execution_count": 12,
     "metadata": {},
     "output_type": "execute_result"
    }
   ],
   "source": [
    "sp.stats.normaltest(query_results)"
   ]
  },
  {
   "cell_type": "markdown",
   "metadata": {
    "deletable": true,
    "editable": true
   },
   "source": [
    "pvalue is less than .05, so reject the null hypothesis. Age is not normally distributed."
   ]
  },
  {
   "cell_type": "markdown",
   "metadata": {
    "deletable": true,
    "editable": true
   },
   "source": [
    "### Prepare a `seaborn.distplot` of the ages and plot the mean and median of the ages\n",
    "\n",
    "You can use `plt.axvline` to plot the mean and median."
   ]
  },
  {
   "cell_type": "code",
   "execution_count": 13,
   "metadata": {
    "collapsed": false,
    "deletable": true,
    "editable": true
   },
   "outputs": [
    {
     "data": {
      "text/plain": [
       "<matplotlib.legend.Legend at 0x7f1310cf5a10>"
      ]
     },
     "execution_count": 13,
     "metadata": {},
     "output_type": "execute_result"
    },
    {
     "name": "stderr",
     "output_type": "stream",
     "text": [
      "/opt/conda/envs/python2/lib/python2.7/site-packages/matplotlib/font_manager.py:1297: UserWarning: findfont: Font family [u'sans-serif'] not found. Falling back to DejaVu Sans\n",
      "  (prop.get_family(), self.defaultFamily[fontext]))\n"
     ]
    },
    {
     "data": {
      "image/png": "[encoded data removed]",
      "text/plain": [
       "<matplotlib.figure.Figure at 0x7f1312ea6d10>"
      ]
     },
     "metadata": {},
     "output_type": "display_data"
    }
   ],
   "source": [
    "sns.distplot(query_results)\n",
    "plt.axvline(np.mean(query_results), color='r', label = 'mean')\n",
    "plt.axvline(np.median(query_results), color='g', label = 'median')\n",
    "plt.legend()"
   ]
  },
  {
   "cell_type": "markdown",
   "metadata": {
    "deletable": true,
    "editable": true
   },
   "source": [
    "### Create and interpret a hypothesis test around the average age of male vs female survivors."
   ]
  },
  {
   "cell_type": "markdown",
   "metadata": {
    "deletable": true,
    "editable": true
   },
   "source": [
    "1. Write two sql queries\n",
    "   1. get all male ages that are not `NULL`.\n",
    "   1. get all female ages that are not `NULL`. \n",
    "1. State your null and alternate hypothesis.\n",
    "2. Use `scipy.stats.ttest_ind` to run a t-test using the two vectors, state your t-statistic and p-value.\n",
    "3. Interpret your p-value. "
   ]
  },
  {
   "cell_type": "markdown",
   "metadata": {
    "deletable": true,
    "editable": true
   },
   "source": [
    "Null hypothesis: There is no difference in the distributions of ages for men and women aboard the titanic.\n",
    "\n",
    "Alternate hypothesis: The distributions of ages for men and women aboard the titanic are different."
   ]
  },
  {
   "cell_type": "code",
   "execution_count": 14,
   "metadata": {
    "collapsed": false,
    "deletable": true,
    "editable": true
   },
   "outputs": [],
   "source": [
    "# get all male ages that are not NULL.\n",
    "\n",
    "connection, cursor = connect_and_cursor('michaelgfrantz.com', 'postgres', 'dsism4')\n",
    "execute_query(connection, cursor, \n",
    "              \"\"\"\n",
    "              SELECT age\n",
    "              FROM titanic\n",
    "              WHERE sex = 'male' AND age IS NOT NULL ;\n",
    "              \"\"\")\n",
    "query_results_male = cursor.fetchall()\n",
    "\n",
    "connection.close()"
   ]
  },
  {
   "cell_type": "code",
   "execution_count": 15,
   "metadata": {
    "collapsed": true,
    "deletable": true,
    "editable": true
   },
   "outputs": [],
   "source": [
    "# get all female ages that are not NULL.\n",
    "\n",
    "connection, cursor = connect_and_cursor('michaelgfrantz.com', 'postgres', 'dsism4')\n",
    "execute_query(connection, cursor, \n",
    "              \"\"\"\n",
    "              SELECT age\n",
    "              FROM titanic\n",
    "              WHERE sex = 'female' AND age IS NOT NULL;\n",
    "              \"\"\")\n",
    "query_results_female = cursor.fetchall()\n",
    "\n",
    "connection.close()"
   ]
  },
  {
   "cell_type": "code",
   "execution_count": 16,
   "metadata": {
    "collapsed": false,
    "deletable": true,
    "editable": true
   },
   "outputs": [
    {
     "data": {
      "text/plain": [
       "Ttest_indResult(statistic=array([ 2.06063174]), pvalue=array([ 0.03958549]))"
      ]
     },
     "execution_count": 16,
     "metadata": {},
     "output_type": "execute_result"
    }
   ],
   "source": [
    "sp.stats.ttest_ind(query_results_male, query_results_female)"
   ]
  },
  {
   "cell_type": "code",
   "execution_count": 17,
   "metadata": {
    "collapsed": true,
    "deletable": true,
    "editable": true
   },
   "outputs": [],
   "source": [
    "# Interpret your p-value.\n",
    "\n",
    "# p-value is less than 0.05. We reject the null hypothesis and accept the alternative hypothesis\n",
    "# that the distributions of ages for men and women aboard the titanic are different."
   ]
  },
  {
   "cell_type": "markdown",
   "metadata": {
    "deletable": true,
    "editable": true
   },
   "source": [
    "## 4. clean the data from the `titanic` table"
   ]
  },
  {
   "cell_type": "markdown",
   "metadata": {
    "deletable": true,
    "editable": true
   },
   "source": [
    "### Get all of the data from the `titanic` table.\n",
    "\n",
    "1. query all data from the table\n",
    "2. use `sql_to_df` to write the data to a `DataFrame`"
   ]
  },
  {
   "cell_type": "code",
   "execution_count": 18,
   "metadata": {
    "collapsed": false,
    "deletable": true,
    "editable": true
   },
   "outputs": [],
   "source": [
    "connection, cursor = connect_and_cursor('michaelgfrantz.com', 'postgres', 'dsism4')\n",
    "execute_query(connection, cursor, \n",
    "              \"\"\"\n",
    "              SELECT *\n",
    "              FROM titanic\n",
    "              \"\"\")\n",
    "query_results = cursor.fetchall()\n",
    "\n",
    "connection.close()"
   ]
  },
  {
   "cell_type": "code",
   "execution_count": 19,
   "metadata": {
    "collapsed": true,
    "deletable": true,
    "editable": true
   },
   "outputs": [],
   "source": [
    "titanic_df = sql_to_df(query_results)"
   ]
  },
  {
   "cell_type": "markdown",
   "metadata": {
    "deletable": true,
    "editable": true
   },
   "source": [
    "### Get the column names and add them to the `titanic_df` DataFrame"
   ]
  },
  {
   "cell_type": "code",
   "execution_count": 20,
   "metadata": {
    "collapsed": false,
    "deletable": true,
    "editable": true
   },
   "outputs": [
    {
     "data": {
      "text/plain": [
       "['pclass',\n",
       " 'survived',\n",
       " 'name',\n",
       " 'sex',\n",
       " 'age',\n",
       " 'sibsp',\n",
       " 'parch',\n",
       " 'ticket',\n",
       " 'fare',\n",
       " 'cabin',\n",
       " 'embarked',\n",
       " 'boat',\n",
       " 'body',\n",
       " 'home_dest']"
      ]
     },
     "execution_count": 20,
     "metadata": {},
     "output_type": "execute_result"
    }
   ],
   "source": [
    "connection, cursor = connect_and_cursor('michaelgfrantz.com', 'postgres', 'dsism4')\n",
    "execute_query(connection, cursor, \n",
    "              \"\"\"\n",
    "              SELECT column_name\n",
    "              FROM information_schema.columns\n",
    "              WHERE table_name = 'titanic';\n",
    "              \"\"\")\n",
    "cols_list = [elem[0] for elem in cursor.fetchall()]\n",
    "connection.close()\n",
    "\n",
    "cols_list"
   ]
  },
  {
   "cell_type": "markdown",
   "metadata": {
    "deletable": true,
    "editable": true
   },
   "source": [
    "### Apply the column names to the `titanic_df` DataFrame"
   ]
  },
  {
   "cell_type": "code",
   "execution_count": 21,
   "metadata": {
    "collapsed": false,
    "deletable": true,
    "editable": true
   },
   "outputs": [
    {
     "data": {
      "text/html": [
       "<div>\n",
       "<table border=\"1\" class=\"dataframe\">\n",
       "  <thead>\n",
       "    <tr style=\"text-align: right;\">\n",
       "      <th></th>\n",
       "      <th>pclass</th>\n",
       "      <th>survived</th>\n",
       "      <th>name</th>\n",
       "      <th>sex</th>\n",
       "      <th>age</th>\n",
       "      <th>sibsp</th>\n",
       "      <th>parch</th>\n",
       "      <th>ticket</th>\n",
       "      <th>fare</th>\n",
       "      <th>cabin</th>\n",
       "      <th>embarked</th>\n",
       "      <th>boat</th>\n",
       "      <th>body</th>\n",
       "      <th>home_dest</th>\n",
       "    </tr>\n",
       "  </thead>\n",
       "  <tbody>\n",
       "    <tr>\n",
       "      <th>0</th>\n",
       "      <td>1</td>\n",
       "      <td>1</td>\n",
       "      <td>Allen, Miss. Elisabeth Walton</td>\n",
       "      <td>female</td>\n",
       "      <td>29.0000</td>\n",
       "      <td>0</td>\n",
       "      <td>0</td>\n",
       "      <td>24160</td>\n",
       "      <td>211.3375</td>\n",
       "      <td>B5</td>\n",
       "      <td>S</td>\n",
       "      <td>2</td>\n",
       "      <td>NaN</td>\n",
       "      <td>St Louis, MO</td>\n",
       "    </tr>\n",
       "    <tr>\n",
       "      <th>1</th>\n",
       "      <td>1</td>\n",
       "      <td>1</td>\n",
       "      <td>Allison, Master. Hudson Trevor</td>\n",
       "      <td>male</td>\n",
       "      <td>0.9167</td>\n",
       "      <td>1</td>\n",
       "      <td>2</td>\n",
       "      <td>113781</td>\n",
       "      <td>151.5500</td>\n",
       "      <td>C22 C26</td>\n",
       "      <td>S</td>\n",
       "      <td>11</td>\n",
       "      <td>NaN</td>\n",
       "      <td>Montreal, PQ / Chesterville, ON</td>\n",
       "    </tr>\n",
       "  </tbody>\n",
       "</table>\n",
       "</div>"
      ],
      "text/plain": [
       "   pclass  survived                            name     sex      age  sibsp  \\\n",
       "0       1         1   Allen, Miss. Elisabeth Walton  female  29.0000      0   \n",
       "1       1         1  Allison, Master. Hudson Trevor    male   0.9167      1   \n",
       "\n",
       "   parch  ticket      fare    cabin embarked boat  body  \\\n",
       "0      0   24160  211.3375       B5        S    2   NaN   \n",
       "1      2  113781  151.5500  C22 C26        S   11   NaN   \n",
       "\n",
       "                         home_dest  \n",
       "0                     St Louis, MO  \n",
       "1  Montreal, PQ / Chesterville, ON  "
      ]
     },
     "execution_count": 21,
     "metadata": {},
     "output_type": "execute_result"
    }
   ],
   "source": [
    "titanic_df.columns = cols_list\n",
    "titanic_df.head(2)"
   ]
  },
  {
   "cell_type": "markdown",
   "metadata": {
    "deletable": true,
    "editable": true
   },
   "source": [
    "### Display number of null rows per column"
   ]
  },
  {
   "cell_type": "code",
   "execution_count": 22,
   "metadata": {
    "collapsed": false,
    "deletable": true,
    "editable": true
   },
   "outputs": [
    {
     "data": {
      "text/plain": [
       "pclass          0\n",
       "survived        0\n",
       "name            0\n",
       "sex             0\n",
       "age           263\n",
       "sibsp           0\n",
       "parch           0\n",
       "ticket          0\n",
       "fare            1\n",
       "cabin        1014\n",
       "embarked        2\n",
       "boat          823\n",
       "body         1188\n",
       "home_dest     564\n",
       "dtype: int64"
      ]
     },
     "execution_count": 22,
     "metadata": {},
     "output_type": "execute_result"
    }
   ],
   "source": [
    "titanic_df.isnull().sum()"
   ]
  },
  {
   "cell_type": "markdown",
   "metadata": {
    "deletable": true,
    "editable": true
   },
   "source": [
    "### fill age NA values with median of age"
   ]
  },
  {
   "cell_type": "code",
   "execution_count": 23,
   "metadata": {
    "collapsed": false,
    "deletable": true,
    "editable": true
   },
   "outputs": [],
   "source": [
    "titanic_df['age'] = titanic_df['age'].fillna(titanic_df['age'].median())"
   ]
  },
  {
   "cell_type": "markdown",
   "metadata": {
    "deletable": true,
    "editable": true
   },
   "source": [
    "### impute fare with mean"
   ]
  },
  {
   "cell_type": "code",
   "execution_count": 24,
   "metadata": {
    "collapsed": true,
    "deletable": true,
    "editable": true
   },
   "outputs": [],
   "source": [
    "titanic_df['fare'] = titanic_df['fare'].fillna(titanic_df['fare'].mean())"
   ]
  },
  {
   "cell_type": "markdown",
   "metadata": {
    "deletable": true,
    "editable": true
   },
   "source": [
    "### Group the `titanic_df` DataFrame by the `embarked` column"
   ]
  },
  {
   "cell_type": "code",
   "execution_count": 25,
   "metadata": {
    "collapsed": false,
    "deletable": true,
    "editable": true
   },
   "outputs": [],
   "source": [
    "embrk_grp = titanic_df.groupby('embarked')"
   ]
  },
  {
   "cell_type": "code",
   "execution_count": 26,
   "metadata": {
    "collapsed": false,
    "deletable": true,
    "editable": true
   },
   "outputs": [
    {
     "data": {
      "text/html": [
       "<div>\n",
       "<table border=\"1\" class=\"dataframe\">\n",
       "  <thead>\n",
       "    <tr style=\"text-align: right;\">\n",
       "      <th></th>\n",
       "      <th>pclass</th>\n",
       "      <th>survived</th>\n",
       "      <th>name</th>\n",
       "      <th>sex</th>\n",
       "      <th>age</th>\n",
       "      <th>sibsp</th>\n",
       "      <th>parch</th>\n",
       "      <th>ticket</th>\n",
       "      <th>fare</th>\n",
       "      <th>cabin</th>\n",
       "      <th>boat</th>\n",
       "      <th>body</th>\n",
       "      <th>home_dest</th>\n",
       "    </tr>\n",
       "    <tr>\n",
       "      <th>embarked</th>\n",
       "      <th></th>\n",
       "      <th></th>\n",
       "      <th></th>\n",
       "      <th></th>\n",
       "      <th></th>\n",
       "      <th></th>\n",
       "      <th></th>\n",
       "      <th></th>\n",
       "      <th></th>\n",
       "      <th></th>\n",
       "      <th></th>\n",
       "      <th></th>\n",
       "      <th></th>\n",
       "    </tr>\n",
       "  </thead>\n",
       "  <tbody>\n",
       "    <tr>\n",
       "      <th>C</th>\n",
       "      <td>270</td>\n",
       "      <td>270</td>\n",
       "      <td>270</td>\n",
       "      <td>270</td>\n",
       "      <td>270</td>\n",
       "      <td>270</td>\n",
       "      <td>270</td>\n",
       "      <td>270</td>\n",
       "      <td>270</td>\n",
       "      <td>118</td>\n",
       "      <td>149</td>\n",
       "      <td>25</td>\n",
       "      <td>172</td>\n",
       "    </tr>\n",
       "    <tr>\n",
       "      <th>Q</th>\n",
       "      <td>123</td>\n",
       "      <td>123</td>\n",
       "      <td>123</td>\n",
       "      <td>123</td>\n",
       "      <td>123</td>\n",
       "      <td>123</td>\n",
       "      <td>123</td>\n",
       "      <td>123</td>\n",
       "      <td>123</td>\n",
       "      <td>5</td>\n",
       "      <td>38</td>\n",
       "      <td>7</td>\n",
       "      <td>37</td>\n",
       "    </tr>\n",
       "    <tr>\n",
       "      <th>S</th>\n",
       "      <td>914</td>\n",
       "      <td>914</td>\n",
       "      <td>914</td>\n",
       "      <td>914</td>\n",
       "      <td>914</td>\n",
       "      <td>914</td>\n",
       "      <td>914</td>\n",
       "      <td>914</td>\n",
       "      <td>914</td>\n",
       "      <td>170</td>\n",
       "      <td>297</td>\n",
       "      <td>89</td>\n",
       "      <td>535</td>\n",
       "    </tr>\n",
       "  </tbody>\n",
       "</table>\n",
       "</div>"
      ],
      "text/plain": [
       "          pclass  survived  name  sex  age  sibsp  parch  ticket  fare  cabin  \\\n",
       "embarked                                                                        \n",
       "C            270       270   270  270  270    270    270     270   270    118   \n",
       "Q            123       123   123  123  123    123    123     123   123      5   \n",
       "S            914       914   914  914  914    914    914     914   914    170   \n",
       "\n",
       "          boat  body  home_dest  \n",
       "embarked                         \n",
       "C          149    25        172  \n",
       "Q           38     7         37  \n",
       "S          297    89        535  "
      ]
     },
     "execution_count": 26,
     "metadata": {},
     "output_type": "execute_result"
    }
   ],
   "source": [
    "embrk_grp.count()"
   ]
  },
  {
   "cell_type": "markdown",
   "metadata": {
    "deletable": true,
    "editable": true
   },
   "source": [
    "### fill embarked with the mode using `np.where`"
   ]
  },
  {
   "cell_type": "code",
   "execution_count": 27,
   "metadata": {
    "collapsed": false,
    "deletable": true,
    "editable": true
   },
   "outputs": [],
   "source": [
    "titanic_df['embarked'] = ((titanic_df['embarked'].\n",
    "                           where(pd.notnull(titanic_df['embarked']), \n",
    "                                 titanic_df['embarked'].mode()[0])))"
   ]
  },
  {
   "cell_type": "markdown",
   "metadata": {
    "deletable": true,
    "editable": true
   },
   "source": [
    "### Display number of null rows per column"
   ]
  },
  {
   "cell_type": "code",
   "execution_count": 28,
   "metadata": {
    "collapsed": false,
    "deletable": true,
    "editable": true
   },
   "outputs": [
    {
     "data": {
      "text/plain": [
       "pclass          0\n",
       "survived        0\n",
       "name            0\n",
       "sex             0\n",
       "age             0\n",
       "sibsp           0\n",
       "parch           0\n",
       "ticket          0\n",
       "fare            0\n",
       "cabin        1014\n",
       "embarked        0\n",
       "boat          823\n",
       "body         1188\n",
       "home_dest     564\n",
       "dtype: int64"
      ]
     },
     "execution_count": 28,
     "metadata": {},
     "output_type": "execute_result"
    }
   ],
   "source": [
    "titanic_df.isnull().sum()"
   ]
  },
  {
   "cell_type": "markdown",
   "metadata": {
    "deletable": true,
    "editable": true
   },
   "source": [
    "### Drop all columns that contain null values"
   ]
  },
  {
   "cell_type": "code",
   "execution_count": 29,
   "metadata": {
    "collapsed": false,
    "deletable": true,
    "editable": true
   },
   "outputs": [],
   "source": [
    "titanic_df = titanic_df.dropna(axis = 1)"
   ]
  },
  {
   "cell_type": "markdown",
   "metadata": {
    "deletable": true,
    "editable": true
   },
   "source": [
    "### Verify that there are no remaining null values"
   ]
  },
  {
   "cell_type": "code",
   "execution_count": 30,
   "metadata": {
    "collapsed": false,
    "deletable": true,
    "editable": true
   },
   "outputs": [
    {
     "data": {
      "text/plain": [
       "pclass      0\n",
       "survived    0\n",
       "name        0\n",
       "sex         0\n",
       "age         0\n",
       "sibsp       0\n",
       "parch       0\n",
       "ticket      0\n",
       "fare        0\n",
       "embarked    0\n",
       "dtype: int64"
      ]
     },
     "execution_count": 30,
     "metadata": {},
     "output_type": "execute_result"
    }
   ],
   "source": [
    "titanic_df.isnull().sum()"
   ]
  },
  {
   "cell_type": "markdown",
   "metadata": {
    "deletable": true,
    "editable": true
   },
   "source": [
    "### Drop the `ticket` column"
   ]
  },
  {
   "cell_type": "code",
   "execution_count": 31,
   "metadata": {
    "collapsed": false,
    "deletable": true,
    "editable": true
   },
   "outputs": [],
   "source": [
    "titanic_df = titanic_df.drop('ticket', axis = 1)"
   ]
  },
  {
   "cell_type": "markdown",
   "metadata": {
    "deletable": true,
    "editable": true
   },
   "source": [
    "### Make the `name` column the index of the DataFrame"
   ]
  },
  {
   "cell_type": "code",
   "execution_count": 32,
   "metadata": {
    "collapsed": false,
    "deletable": true,
    "editable": true
   },
   "outputs": [],
   "source": [
    "titanic_df = titanic_df.set_index('name')"
   ]
  },
  {
   "cell_type": "markdown",
   "metadata": {
    "deletable": true,
    "editable": true
   },
   "source": [
    "### Display the cleaned DataFrame"
   ]
  },
  {
   "cell_type": "code",
   "execution_count": 33,
   "metadata": {
    "collapsed": false,
    "deletable": true,
    "editable": true
   },
   "outputs": [
    {
     "data": {
      "text/html": [
       "<div>\n",
       "<table border=\"1\" class=\"dataframe\">\n",
       "  <thead>\n",
       "    <tr style=\"text-align: right;\">\n",
       "      <th></th>\n",
       "      <th>pclass</th>\n",
       "      <th>survived</th>\n",
       "      <th>sex</th>\n",
       "      <th>age</th>\n",
       "      <th>sibsp</th>\n",
       "      <th>parch</th>\n",
       "      <th>fare</th>\n",
       "      <th>embarked</th>\n",
       "    </tr>\n",
       "    <tr>\n",
       "      <th>name</th>\n",
       "      <th></th>\n",
       "      <th></th>\n",
       "      <th></th>\n",
       "      <th></th>\n",
       "      <th></th>\n",
       "      <th></th>\n",
       "      <th></th>\n",
       "      <th></th>\n",
       "    </tr>\n",
       "  </thead>\n",
       "  <tbody>\n",
       "    <tr>\n",
       "      <th>Allen, Miss. Elisabeth Walton</th>\n",
       "      <td>1</td>\n",
       "      <td>1</td>\n",
       "      <td>female</td>\n",
       "      <td>29.0000</td>\n",
       "      <td>0</td>\n",
       "      <td>0</td>\n",
       "      <td>211.3375</td>\n",
       "      <td>S</td>\n",
       "    </tr>\n",
       "    <tr>\n",
       "      <th>Allison, Master. Hudson Trevor</th>\n",
       "      <td>1</td>\n",
       "      <td>1</td>\n",
       "      <td>male</td>\n",
       "      <td>0.9167</td>\n",
       "      <td>1</td>\n",
       "      <td>2</td>\n",
       "      <td>151.5500</td>\n",
       "      <td>S</td>\n",
       "    </tr>\n",
       "    <tr>\n",
       "      <th>Allison, Miss. Helen Loraine</th>\n",
       "      <td>1</td>\n",
       "      <td>0</td>\n",
       "      <td>female</td>\n",
       "      <td>2.0000</td>\n",
       "      <td>1</td>\n",
       "      <td>2</td>\n",
       "      <td>151.5500</td>\n",
       "      <td>S</td>\n",
       "    </tr>\n",
       "  </tbody>\n",
       "</table>\n",
       "</div>"
      ],
      "text/plain": [
       "                                pclass  survived     sex      age  sibsp  \\\n",
       "name                                                                       \n",
       "Allen, Miss. Elisabeth Walton        1         1  female  29.0000      0   \n",
       "Allison, Master. Hudson Trevor       1         1    male   0.9167      1   \n",
       "Allison, Miss. Helen Loraine         1         0  female   2.0000      1   \n",
       "\n",
       "                                parch      fare embarked  \n",
       "name                                                      \n",
       "Allen, Miss. Elisabeth Walton       0  211.3375        S  \n",
       "Allison, Master. Hudson Trevor      2  151.5500        S  \n",
       "Allison, Miss. Helen Loraine        2  151.5500        S  "
      ]
     },
     "execution_count": 33,
     "metadata": {},
     "output_type": "execute_result"
    }
   ],
   "source": [
    "titanic_df.head(3)"
   ]
  },
  {
   "cell_type": "code",
   "execution_count": 34,
   "metadata": {
    "collapsed": false
   },
   "outputs": [
    {
     "data": {
      "text/plain": [
       "(1309, 8)"
      ]
     },
     "execution_count": 34,
     "metadata": {},
     "output_type": "execute_result"
    }
   ],
   "source": [
    "titanic_df.shape"
   ]
  },
  {
   "cell_type": "code",
   "execution_count": 35,
   "metadata": {
    "collapsed": false
   },
   "outputs": [
    {
     "data": {
      "text/plain": [
       "(1107, 8)"
      ]
     },
     "execution_count": 35,
     "metadata": {},
     "output_type": "execute_result"
    }
   ],
   "source": [
    "titanic_df = titanic_df.drop_duplicates()\n",
    "titanic_df.shape"
   ]
  },
  {
   "cell_type": "markdown",
   "metadata": {
    "deletable": true,
    "editable": true
   },
   "source": [
    "## 5. Use masking to predict survival\n"
   ]
  },
  {
   "cell_type": "code",
   "execution_count": 36,
   "metadata": {
    "collapsed": false,
    "deletable": true,
    "editable": true
   },
   "outputs": [
    {
     "data": {
      "text/plain": [
       "0.71881606765327699"
      ]
     },
     "execution_count": 36,
     "metadata": {},
     "output_type": "execute_result"
    }
   ],
   "source": [
    "titanic_df[(titanic_df['sex'] == 'female') | (titanic_df['age'] < 10)]['survived'].mean()"
   ]
  },
  {
   "cell_type": "code",
   "execution_count": 37,
   "metadata": {
    "collapsed": true,
    "deletable": true,
    "editable": true
   },
   "outputs": [],
   "source": [
    "female = titanic_df['sex'] == 'female'\n",
    "children = titanic_df['age'] < 10"
   ]
  },
  {
   "cell_type": "code",
   "execution_count": 38,
   "metadata": {
    "collapsed": true,
    "deletable": true,
    "editable": true
   },
   "outputs": [],
   "source": [
    "model1 = female | children\n",
    "\n",
    "model2 = female & children"
   ]
  },
  {
   "cell_type": "code",
   "execution_count": 39,
   "metadata": {
    "collapsed": true,
    "deletable": true,
    "editable": true
   },
   "outputs": [],
   "source": [
    "# T = survived, F = did not survive"
   ]
  },
  {
   "cell_type": "markdown",
   "metadata": {
    "deletable": true,
    "editable": true
   },
   "source": [
    "## Use Seaborn to look at sex vs age colored by survival"
   ]
  },
  {
   "cell_type": "code",
   "execution_count": 40,
   "metadata": {
    "collapsed": false,
    "deletable": true,
    "editable": true
   },
   "outputs": [
    {
     "data": {
      "text/plain": [
       "<matplotlib.legend.Legend at 0x7f1310c09a50>"
      ]
     },
     "execution_count": 40,
     "metadata": {},
     "output_type": "execute_result"
    },
    {
     "data": {
      "image/png": "[encoded data removed]",
      "text/plain": [
       "<matplotlib.figure.Figure at 0x7f134042d1d0>"
      ]
     },
     "metadata": {},
     "output_type": "display_data"
    }
   ],
   "source": [
    "sns.swarmplot(x=\"sex\", y=\"age\", hue=\"survived\", data=titanic_df)\n",
    "plt.legend()"
   ]
  },
  {
   "cell_type": "markdown",
   "metadata": {
    "deletable": true,
    "editable": true
   },
   "source": [
    "### Assign the `survived` column to `titanic_target`"
   ]
  },
  {
   "cell_type": "code",
   "execution_count": 41,
   "metadata": {
    "collapsed": true,
    "deletable": true,
    "editable": true
   },
   "outputs": [],
   "source": [
    "titanic_target = titanic_df['survived']"
   ]
  },
  {
   "cell_type": "markdown",
   "metadata": {
    "deletable": true,
    "editable": true
   },
   "source": [
    "### Drop the `survived` column and assign the result to `titanic_feature`"
   ]
  },
  {
   "cell_type": "code",
   "execution_count": 42,
   "metadata": {
    "collapsed": true,
    "deletable": true,
    "editable": true
   },
   "outputs": [],
   "source": [
    "titanic_feature = titanic_df.drop('survived', axis=1)"
   ]
  },
  {
   "cell_type": "markdown",
   "metadata": {
    "deletable": true,
    "editable": true
   },
   "source": [
    "### What is the mean of the `titanic_target` vector?"
   ]
  },
  {
   "cell_type": "code",
   "execution_count": 43,
   "metadata": {
    "collapsed": false,
    "deletable": true,
    "editable": true
   },
   "outputs": [
    {
     "data": {
      "text/plain": [
       "0.42005420054200543"
      ]
     },
     "execution_count": 43,
     "metadata": {},
     "output_type": "execute_result"
    }
   ],
   "source": [
    "titanic_target.mean()"
   ]
  },
  {
   "cell_type": "markdown",
   "metadata": {
    "deletable": true,
    "editable": true
   },
   "source": [
    "### What does this value represent?"
   ]
  },
  {
   "cell_type": "markdown",
   "metadata": {
    "deletable": true,
    "editable": true
   },
   "source": [
    "average survival rate (mean of survived column)"
   ]
  },
  {
   "cell_type": "markdown",
   "metadata": {
    "deletable": true,
    "editable": true
   },
   "source": [
    "### Define an Accuracy Function"
   ]
  },
  {
   "cell_type": "markdown",
   "metadata": {
    "deletable": true,
    "editable": true
   },
   "source": [
    "Run this code block to define an accuracy function."
   ]
  },
  {
   "cell_type": "code",
   "execution_count": 44,
   "metadata": {
    "collapsed": true,
    "deletable": true,
    "editable": true
   },
   "outputs": [],
   "source": [
    "def accuracy_score(actual, predicted):\n",
    "    \n",
    "    \"\"\" \n",
    "    A function that compares a set of actual outcomes to predicted outcomes \n",
    "    and returns a proportion from 0 to 1 \n",
    "    \"\"\"\n",
    "    \n",
    "    return np.array(actual == predicted).mean()"
   ]
  },
  {
   "cell_type": "markdown",
   "metadata": {
    "deletable": true,
    "editable": true
   },
   "source": [
    "### What does this function do?"
   ]
  },
  {
   "cell_type": "markdown",
   "metadata": {
    "deletable": true,
    "editable": true
   },
   "source": [
    "compares our predicted survival rate to the actual, and returns the mean of an array of True (1) and False (0) values where True means that our prediction for survival is the same as the actual survival, and False means they are different, so a mean of 1 means we achieved 100% accuracy and a mean of 0 means we achieved 0% accuracy"
   ]
  },
  {
   "cell_type": "markdown",
   "metadata": {
    "deletable": true,
    "editable": true
   },
   "source": [
    "### Display the first five elements of `titanic_target`"
   ]
  },
  {
   "cell_type": "code",
   "execution_count": 45,
   "metadata": {
    "collapsed": false,
    "deletable": true,
    "editable": true
   },
   "outputs": [
    {
     "data": {
      "text/plain": [
       "name\n",
       "Allen, Miss. Elisabeth Walton                      1\n",
       "Allison, Master. Hudson Trevor                     1\n",
       "Allison, Miss. Helen Loraine                       0\n",
       "Allison, Mr. Hudson Joshua Creighton               0\n",
       "Allison, Mrs. Hudson J C (Bessie Waldo Daniels)    0\n",
       "Name: survived, dtype: int64"
      ]
     },
     "execution_count": 45,
     "metadata": {},
     "output_type": "execute_result"
    }
   ],
   "source": [
    "titanic_target.head()"
   ]
  },
  {
   "cell_type": "markdown",
   "metadata": {
    "deletable": true,
    "editable": true
   },
   "source": [
    "### Predict that all of these people survived"
   ]
  },
  {
   "cell_type": "markdown",
   "metadata": {
    "deletable": true,
    "editable": true
   },
   "source": [
    "Run this block of code to generate a vector of 5 ones i.e. the first five people survived."
   ]
  },
  {
   "cell_type": "code",
   "execution_count": 46,
   "metadata": {
    "collapsed": true,
    "deletable": true,
    "editable": true
   },
   "outputs": [],
   "source": [
    "predictions = np.ones(5)"
   ]
  },
  {
   "cell_type": "markdown",
   "metadata": {
    "deletable": true,
    "editable": true
   },
   "source": [
    "### Run the `accuracy_score` of these `predictions` against the first five elements of `titanic_target`"
   ]
  },
  {
   "cell_type": "markdown",
   "metadata": {
    "deletable": true,
    "editable": true
   },
   "source": [
    "Run this block of code to test the accuracy of the prediction."
   ]
  },
  {
   "cell_type": "code",
   "execution_count": 47,
   "metadata": {
    "collapsed": false,
    "deletable": true,
    "editable": true
   },
   "outputs": [
    {
     "data": {
      "text/plain": [
       "0.40000000000000002"
      ]
     },
     "execution_count": 47,
     "metadata": {},
     "output_type": "execute_result"
    }
   ],
   "source": [
    "accuracy_score(predictions, titanic_target[:5])"
   ]
  },
  {
   "cell_type": "markdown",
   "metadata": {
    "deletable": true,
    "editable": true
   },
   "source": [
    "### What does this accuracy score tell us?"
   ]
  },
  {
   "cell_type": "markdown",
   "metadata": {
    "deletable": true,
    "editable": true
   },
   "source": [
    "That our prediction that all the first five people survived is only 40% accurate, i.e. we can infer that only 40% of them actually survived"
   ]
  },
  {
   "cell_type": "markdown",
   "metadata": {
    "deletable": true,
    "editable": true
   },
   "source": [
    "### What is the survival rate of the titanic passengers?"
   ]
  },
  {
   "cell_type": "markdown",
   "metadata": {
    "collapsed": false,
    "deletable": true,
    "editable": true
   },
   "source": [
    "38% (from titanic_target.mean())"
   ]
  },
  {
   "cell_type": "markdown",
   "metadata": {
    "deletable": true,
    "editable": true
   },
   "source": [
    "### Generate a model - no one survived\n",
    "\n",
    "We can do this by generating a vector of zeros."
   ]
  },
  {
   "cell_type": "code",
   "execution_count": 49,
   "metadata": {
    "collapsed": false,
    "deletable": true,
    "editable": true
   },
   "outputs": [],
   "source": [
    "n = titanic_feature.shape[0]\n",
    "model_0_no_survivors = np.zeros(n)"
   ]
  },
  {
   "cell_type": "markdown",
   "metadata": {
    "deletable": true,
    "editable": true
   },
   "source": [
    "### Calculate the accuracy of this model"
   ]
  },
  {
   "cell_type": "code",
   "execution_count": 50,
   "metadata": {
    "collapsed": false,
    "deletable": true,
    "editable": true
   },
   "outputs": [
    {
     "name": "stdout",
     "output_type": "stream",
     "text": [
      "0.579945799458\n"
     ]
    }
   ],
   "source": [
    "print(accuracy_score(titanic_target, model_0_no_survivors))"
   ]
  },
  {
   "cell_type": "markdown",
   "metadata": {
    "deletable": true,
    "editable": true
   },
   "source": [
    "### Generate a model using masking - women survived"
   ]
  },
  {
   "cell_type": "code",
   "execution_count": 51,
   "metadata": {
    "collapsed": false,
    "deletable": true,
    "editable": true
   },
   "outputs": [],
   "source": [
    "women = titanic_feature['sex'] == 'female'\n",
    "model_1_women_survive = women"
   ]
  },
  {
   "cell_type": "markdown",
   "metadata": {
    "deletable": true,
    "editable": true
   },
   "source": [
    "### Calculate the accuracy of this model"
   ]
  },
  {
   "cell_type": "code",
   "execution_count": 52,
   "metadata": {
    "collapsed": false,
    "deletable": true,
    "editable": true
   },
   "outputs": [
    {
     "name": "stdout",
     "output_type": "stream",
     "text": [
      "0.760614272809\n"
     ]
    }
   ],
   "source": [
    "print(accuracy_score(titanic_target, model_1_women_survive))"
   ]
  },
  {
   "cell_type": "markdown",
   "metadata": {
    "deletable": true,
    "editable": true
   },
   "source": [
    "### Generate a model using masking - women and children survived"
   ]
  },
  {
   "cell_type": "code",
   "execution_count": 53,
   "metadata": {
    "collapsed": false,
    "deletable": true,
    "editable": true
   },
   "outputs": [],
   "source": [
    "children = titanic_feature['age'] < 10\n",
    "\n",
    "model_2_women_and_children = women & children"
   ]
  },
  {
   "cell_type": "markdown",
   "metadata": {
    "deletable": true,
    "editable": true
   },
   "source": [
    "### Calculate the accuracy of this model"
   ]
  },
  {
   "cell_type": "code",
   "execution_count": 54,
   "metadata": {
    "collapsed": false,
    "deletable": true,
    "editable": true,
    "scrolled": true
   },
   "outputs": [
    {
     "name": "stdout",
     "output_type": "stream",
     "text": [
      "0.588979223126\n"
     ]
    }
   ],
   "source": [
    "print(accuracy_score(titanic_target, model_2_women_and_children))"
   ]
  },
  {
   "cell_type": "markdown",
   "metadata": {
    "deletable": true,
    "editable": true
   },
   "source": [
    "### Can you generate a better model using masking?"
   ]
  },
  {
   "cell_type": "code",
   "execution_count": 55,
   "metadata": {
    "collapsed": true,
    "deletable": true,
    "editable": true
   },
   "outputs": [],
   "source": [
    "my_model = women | children # women OR children"
   ]
  },
  {
   "cell_type": "code",
   "execution_count": 56,
   "metadata": {
    "collapsed": false,
    "deletable": true,
    "editable": true
   },
   "outputs": [
    {
     "name": "stdout",
     "output_type": "stream",
     "text": [
      "0.766937669377\n"
     ]
    }
   ],
   "source": [
    "print(accuracy_score(titanic_target, my_model))"
   ]
  },
  {
   "cell_type": "code",
   "execution_count": 57,
   "metadata": {
    "collapsed": true,
    "deletable": true,
    "editable": true
   },
   "outputs": [],
   "source": [
    "first_class = titanic_feature['pclass'] == 1\n",
    "my_model_2_wom_child_class = women | children & first_class"
   ]
  },
  {
   "cell_type": "code",
   "execution_count": 58,
   "metadata": {
    "collapsed": false,
    "deletable": true,
    "editable": true
   },
   "outputs": [
    {
     "name": "stdout",
     "output_type": "stream",
     "text": [
      "0.76332429991\n"
     ]
    }
   ],
   "source": [
    "print(accuracy_score(titanic_target, my_model_2_wom_child_class))"
   ]
  },
  {
   "cell_type": "markdown",
   "metadata": {
    "deletable": true,
    "editable": true
   },
   "source": [
    "## 6. Transform the Columns by Label Encoding and One Hot Encoding "
   ]
  },
  {
   "cell_type": "markdown",
   "metadata": {
    "deletable": true,
    "editable": true
   },
   "source": [
    "1. Create a new `LabelEncoder`. \n",
    "1. Use it to label encode the `sex` column.\n",
    "1. Save the label encoded vector back to the `titanic_df`."
   ]
  },
  {
   "cell_type": "code",
   "execution_count": 59,
   "metadata": {
    "collapsed": false,
    "deletable": true,
    "editable": true
   },
   "outputs": [],
   "source": [
    "le = LabelEncoder()\n",
    "le.fit(titanic_df['sex'])\n",
    "sex_transformed = le.transform(titanic_df['sex'])"
   ]
  },
  {
   "cell_type": "code",
   "execution_count": 60,
   "metadata": {
    "collapsed": false,
    "deletable": true,
    "editable": true
   },
   "outputs": [],
   "source": [
    "titanic_df['sex'] = sex_transformed"
   ]
  },
  {
   "cell_type": "markdown",
   "metadata": {
    "deletable": true,
    "editable": true
   },
   "source": [
    "1. Create a new `LabelEncoder`. \n",
    "1. Use it to label encode the `embarked` column.\n",
    "1. Save the label encoded vector back to the `titanic_df`."
   ]
  },
  {
   "cell_type": "code",
   "execution_count": 61,
   "metadata": {
    "collapsed": false,
    "deletable": true,
    "editable": true
   },
   "outputs": [],
   "source": [
    "le2 = LabelEncoder()\n",
    "le2.fit(titanic_df['embarked'])\n",
    "embarked_transformed = le2.transform(titanic_df['embarked'])"
   ]
  },
  {
   "cell_type": "code",
   "execution_count": 62,
   "metadata": {
    "collapsed": false,
    "deletable": true,
    "editable": true
   },
   "outputs": [
    {
     "data": {
      "text/plain": [
       "array(['C', 'Q', 'S'], dtype=object)"
      ]
     },
     "execution_count": 62,
     "metadata": {},
     "output_type": "execute_result"
    }
   ],
   "source": [
    "le2.classes_ "
   ]
  },
  {
   "cell_type": "code",
   "execution_count": 63,
   "metadata": {
    "collapsed": false,
    "deletable": true,
    "editable": true
   },
   "outputs": [],
   "source": [
    "titanic_df['embarked'] = embarked_transformed"
   ]
  },
  {
   "cell_type": "markdown",
   "metadata": {
    "deletable": true,
    "editable": true
   },
   "source": [
    "1. Create a new `OneHotEncoder`. \n",
    "1. Use it to one hot encode the `embarked` column.\n",
    "1. Save the one hot encoded dataframe as `embarked_df`.\n",
    "1. Name the columns of `embarked_df` appropriately.\n",
    "1. Assign `titanic_df.index` to the `embarked_df`.\n"
   ]
  },
  {
   "cell_type": "code",
   "execution_count": 64,
   "metadata": {
    "collapsed": false,
    "deletable": true,
    "editable": true
   },
   "outputs": [
    {
     "name": "stderr",
     "output_type": "stream",
     "text": [
      "/opt/conda/envs/python2/lib/python2.7/site-packages/ipykernel/__main__.py:2: FutureWarning: reshape is deprecated and will raise in a subsequent release. Please use .values.reshape(...) instead\n",
      "  from ipykernel import kernelapp as app\n"
     ]
    }
   ],
   "source": [
    "one_hot = OneHotEncoder(sparse=False)\n",
    "embarked = titanic_df['embarked'].reshape(-1,1)\n",
    "one_hot.fit(embarked)\n",
    "one_hot_embarked = one_hot.transform(embarked)"
   ]
  },
  {
   "cell_type": "code",
   "execution_count": 65,
   "metadata": {
    "collapsed": false,
    "deletable": true,
    "editable": true
   },
   "outputs": [
    {
     "data": {
      "text/html": [
       "<div>\n",
       "<table border=\"1\" class=\"dataframe\">\n",
       "  <thead>\n",
       "    <tr style=\"text-align: right;\">\n",
       "      <th></th>\n",
       "      <th>embarked_C</th>\n",
       "      <th>embarked_Q</th>\n",
       "      <th>embarked_S</th>\n",
       "    </tr>\n",
       "    <tr>\n",
       "      <th>name</th>\n",
       "      <th></th>\n",
       "      <th></th>\n",
       "      <th></th>\n",
       "    </tr>\n",
       "  </thead>\n",
       "  <tbody>\n",
       "    <tr>\n",
       "      <th>Allen, Miss. Elisabeth Walton</th>\n",
       "      <td>0.0</td>\n",
       "      <td>0.0</td>\n",
       "      <td>1.0</td>\n",
       "    </tr>\n",
       "    <tr>\n",
       "      <th>Allison, Master. Hudson Trevor</th>\n",
       "      <td>0.0</td>\n",
       "      <td>0.0</td>\n",
       "      <td>1.0</td>\n",
       "    </tr>\n",
       "  </tbody>\n",
       "</table>\n",
       "</div>"
      ],
      "text/plain": [
       "                                embarked_C  embarked_Q  embarked_S\n",
       "name                                                              \n",
       "Allen, Miss. Elisabeth Walton          0.0         0.0         1.0\n",
       "Allison, Master. Hudson Trevor         0.0         0.0         1.0"
      ]
     },
     "execution_count": 65,
     "metadata": {},
     "output_type": "execute_result"
    }
   ],
   "source": [
    "embarked_df = (pd.DataFrame(one_hot_embarked, \n",
    "                            columns=['embarked_'+str(c) for c in le2.classes_], \n",
    "                            index = titanic_df.index))\n",
    "embarked_df.head(2)"
   ]
  },
  {
   "cell_type": "markdown",
   "metadata": {
    "deletable": true,
    "editable": true
   },
   "source": [
    "### Create a new dataframe called `titanic_numerical_df` by merging `titanic_df` and `embarked_df`."
   ]
  },
  {
   "cell_type": "markdown",
   "metadata": {
    "deletable": true,
    "editable": true
   },
   "source": [
    "1. Use `pd.merge` with the following pattern (used when the two DataFrames have indentical `index` columns).\n",
    "\n",
    "    pd.merge(df_1, df_1, left_index=True, right_index=True)\n",
    "1. Drop the label encoded `embarked` column from `titanic_numerical_df`"
   ]
  },
  {
   "cell_type": "code",
   "execution_count": 66,
   "metadata": {
    "collapsed": false,
    "deletable": true,
    "editable": true
   },
   "outputs": [],
   "source": [
    "titanic_numerical_df = pd.merge(titanic_df, embarked_df, left_index=True, right_index=True)\n",
    "titanic_numerical_df = titanic_numerical_df.drop('embarked', axis=1)"
   ]
  },
  {
   "cell_type": "markdown",
   "metadata": {
    "deletable": true,
    "editable": true
   },
   "source": [
    "### Assign the `survived` column to the vector `y` and drop it from `titanic_numerical_df`"
   ]
  },
  {
   "cell_type": "code",
   "execution_count": 67,
   "metadata": {
    "collapsed": false,
    "deletable": true,
    "editable": true
   },
   "outputs": [],
   "source": [
    "y = titanic_numerical_df['survived']\n",
    "titanic_numerical_df = titanic_numerical_df.drop('survived', axis=1)\n"
   ]
  },
  {
   "cell_type": "markdown",
   "metadata": {
    "deletable": true,
    "editable": true
   },
   "source": [
    "### Display the `head` of your numerical dataframe"
   ]
  },
  {
   "cell_type": "code",
   "execution_count": 68,
   "metadata": {
    "collapsed": false,
    "deletable": true,
    "editable": true
   },
   "outputs": [
    {
     "data": {
      "text/html": [
       "<div>\n",
       "<table border=\"1\" class=\"dataframe\">\n",
       "  <thead>\n",
       "    <tr style=\"text-align: right;\">\n",
       "      <th></th>\n",
       "      <th>pclass</th>\n",
       "      <th>sex</th>\n",
       "      <th>age</th>\n",
       "      <th>sibsp</th>\n",
       "      <th>parch</th>\n",
       "      <th>fare</th>\n",
       "      <th>embarked_C</th>\n",
       "      <th>embarked_Q</th>\n",
       "      <th>embarked_S</th>\n",
       "    </tr>\n",
       "    <tr>\n",
       "      <th>name</th>\n",
       "      <th></th>\n",
       "      <th></th>\n",
       "      <th></th>\n",
       "      <th></th>\n",
       "      <th></th>\n",
       "      <th></th>\n",
       "      <th></th>\n",
       "      <th></th>\n",
       "      <th></th>\n",
       "    </tr>\n",
       "  </thead>\n",
       "  <tbody>\n",
       "    <tr>\n",
       "      <th>Abbing, Mr. Anthony</th>\n",
       "      <td>3</td>\n",
       "      <td>1</td>\n",
       "      <td>42.0</td>\n",
       "      <td>0</td>\n",
       "      <td>0</td>\n",
       "      <td>7.55</td>\n",
       "      <td>0.0</td>\n",
       "      <td>0.0</td>\n",
       "      <td>1.0</td>\n",
       "    </tr>\n",
       "    <tr>\n",
       "      <th>Abbott, Master. Eugene Joseph</th>\n",
       "      <td>3</td>\n",
       "      <td>1</td>\n",
       "      <td>13.0</td>\n",
       "      <td>0</td>\n",
       "      <td>2</td>\n",
       "      <td>20.25</td>\n",
       "      <td>0.0</td>\n",
       "      <td>0.0</td>\n",
       "      <td>1.0</td>\n",
       "    </tr>\n",
       "    <tr>\n",
       "      <th>Abbott, Mr. Rossmore Edward</th>\n",
       "      <td>3</td>\n",
       "      <td>1</td>\n",
       "      <td>16.0</td>\n",
       "      <td>1</td>\n",
       "      <td>1</td>\n",
       "      <td>20.25</td>\n",
       "      <td>0.0</td>\n",
       "      <td>0.0</td>\n",
       "      <td>1.0</td>\n",
       "    </tr>\n",
       "    <tr>\n",
       "      <th>Abbott, Mrs. Stanton (Rosa Hunt)</th>\n",
       "      <td>3</td>\n",
       "      <td>0</td>\n",
       "      <td>35.0</td>\n",
       "      <td>1</td>\n",
       "      <td>1</td>\n",
       "      <td>20.25</td>\n",
       "      <td>0.0</td>\n",
       "      <td>0.0</td>\n",
       "      <td>1.0</td>\n",
       "    </tr>\n",
       "    <tr>\n",
       "      <th>Abelseth, Miss. Karen Marie</th>\n",
       "      <td>3</td>\n",
       "      <td>0</td>\n",
       "      <td>16.0</td>\n",
       "      <td>0</td>\n",
       "      <td>0</td>\n",
       "      <td>7.65</td>\n",
       "      <td>0.0</td>\n",
       "      <td>0.0</td>\n",
       "      <td>1.0</td>\n",
       "    </tr>\n",
       "  </tbody>\n",
       "</table>\n",
       "</div>"
      ],
      "text/plain": [
       "                                  pclass  sex   age  sibsp  parch   fare  \\\n",
       "name                                                                       \n",
       "Abbing, Mr. Anthony                    3    1  42.0      0      0   7.55   \n",
       "Abbott, Master. Eugene Joseph          3    1  13.0      0      2  20.25   \n",
       "Abbott, Mr. Rossmore Edward            3    1  16.0      1      1  20.25   \n",
       "Abbott, Mrs. Stanton (Rosa Hunt)       3    0  35.0      1      1  20.25   \n",
       "Abelseth, Miss. Karen Marie            3    0  16.0      0      0   7.65   \n",
       "\n",
       "                                  embarked_C  embarked_Q  embarked_S  \n",
       "name                                                                  \n",
       "Abbing, Mr. Anthony                      0.0         0.0         1.0  \n",
       "Abbott, Master. Eugene Joseph            0.0         0.0         1.0  \n",
       "Abbott, Mr. Rossmore Edward              0.0         0.0         1.0  \n",
       "Abbott, Mrs. Stanton (Rosa Hunt)         0.0         0.0         1.0  \n",
       "Abelseth, Miss. Karen Marie              0.0         0.0         1.0  "
      ]
     },
     "execution_count": 68,
     "metadata": {},
     "output_type": "execute_result"
    }
   ],
   "source": [
    "titanic_numerical_df.head()"
   ]
  },
  {
   "cell_type": "code",
   "execution_count": 69,
   "metadata": {
    "collapsed": false,
    "deletable": true,
    "editable": true
   },
   "outputs": [
    {
     "data": {
      "text/html": [
       "<div>\n",
       "<table border=\"1\" class=\"dataframe\">\n",
       "  <thead>\n",
       "    <tr style=\"text-align: right;\">\n",
       "      <th></th>\n",
       "      <th>pclass</th>\n",
       "      <th>sex</th>\n",
       "      <th>age</th>\n",
       "      <th>sibsp</th>\n",
       "      <th>parch</th>\n",
       "      <th>fare</th>\n",
       "      <th>embarked_C</th>\n",
       "      <th>embarked_Q</th>\n",
       "      <th>embarked_S</th>\n",
       "    </tr>\n",
       "  </thead>\n",
       "  <tbody>\n",
       "    <tr>\n",
       "      <th>count</th>\n",
       "      <td>1111.0000</td>\n",
       "      <td>1111.0000</td>\n",
       "      <td>1111.0000</td>\n",
       "      <td>1111.0000</td>\n",
       "      <td>1111.0000</td>\n",
       "      <td>1111.0000</td>\n",
       "      <td>1111.0000</td>\n",
       "      <td>1111.000</td>\n",
       "      <td>1111.0000</td>\n",
       "    </tr>\n",
       "    <tr>\n",
       "      <th>mean</th>\n",
       "      <td>2.2214</td>\n",
       "      <td>0.6112</td>\n",
       "      <td>29.8483</td>\n",
       "      <td>0.5167</td>\n",
       "      <td>0.4338</td>\n",
       "      <td>36.6606</td>\n",
       "      <td>0.2205</td>\n",
       "      <td>0.081</td>\n",
       "      <td>0.6985</td>\n",
       "    </tr>\n",
       "    <tr>\n",
       "      <th>std</th>\n",
       "      <td>0.8572</td>\n",
       "      <td>0.4877</td>\n",
       "      <td>13.8117</td>\n",
       "      <td>0.9555</td>\n",
       "      <td>0.9128</td>\n",
       "      <td>55.1013</td>\n",
       "      <td>0.4148</td>\n",
       "      <td>0.273</td>\n",
       "      <td>0.4591</td>\n",
       "    </tr>\n",
       "    <tr>\n",
       "      <th>min</th>\n",
       "      <td>1.0000</td>\n",
       "      <td>0.0000</td>\n",
       "      <td>0.1667</td>\n",
       "      <td>0.0000</td>\n",
       "      <td>0.0000</td>\n",
       "      <td>0.0000</td>\n",
       "      <td>0.0000</td>\n",
       "      <td>0.000</td>\n",
       "      <td>0.0000</td>\n",
       "    </tr>\n",
       "    <tr>\n",
       "      <th>25%</th>\n",
       "      <td>1.0000</td>\n",
       "      <td>0.0000</td>\n",
       "      <td>22.0000</td>\n",
       "      <td>0.0000</td>\n",
       "      <td>0.0000</td>\n",
       "      <td>8.0500</td>\n",
       "      <td>0.0000</td>\n",
       "      <td>0.000</td>\n",
       "      <td>0.0000</td>\n",
       "    </tr>\n",
       "    <tr>\n",
       "      <th>50%</th>\n",
       "      <td>3.0000</td>\n",
       "      <td>1.0000</td>\n",
       "      <td>28.0000</td>\n",
       "      <td>0.0000</td>\n",
       "      <td>0.0000</td>\n",
       "      <td>16.0000</td>\n",
       "      <td>0.0000</td>\n",
       "      <td>0.000</td>\n",
       "      <td>1.0000</td>\n",
       "    </tr>\n",
       "    <tr>\n",
       "      <th>75%</th>\n",
       "      <td>3.0000</td>\n",
       "      <td>1.0000</td>\n",
       "      <td>37.0000</td>\n",
       "      <td>1.0000</td>\n",
       "      <td>1.0000</td>\n",
       "      <td>35.5000</td>\n",
       "      <td>0.0000</td>\n",
       "      <td>0.000</td>\n",
       "      <td>1.0000</td>\n",
       "    </tr>\n",
       "    <tr>\n",
       "      <th>max</th>\n",
       "      <td>3.0000</td>\n",
       "      <td>1.0000</td>\n",
       "      <td>80.0000</td>\n",
       "      <td>8.0000</td>\n",
       "      <td>9.0000</td>\n",
       "      <td>512.3292</td>\n",
       "      <td>1.0000</td>\n",
       "      <td>1.000</td>\n",
       "      <td>1.0000</td>\n",
       "    </tr>\n",
       "  </tbody>\n",
       "</table>\n",
       "</div>"
      ],
      "text/plain": [
       "          pclass        sex        age      sibsp      parch       fare  \\\n",
       "count  1111.0000  1111.0000  1111.0000  1111.0000  1111.0000  1111.0000   \n",
       "mean      2.2214     0.6112    29.8483     0.5167     0.4338    36.6606   \n",
       "std       0.8572     0.4877    13.8117     0.9555     0.9128    55.1013   \n",
       "min       1.0000     0.0000     0.1667     0.0000     0.0000     0.0000   \n",
       "25%       1.0000     0.0000    22.0000     0.0000     0.0000     8.0500   \n",
       "50%       3.0000     1.0000    28.0000     0.0000     0.0000    16.0000   \n",
       "75%       3.0000     1.0000    37.0000     1.0000     1.0000    35.5000   \n",
       "max       3.0000     1.0000    80.0000     8.0000     9.0000   512.3292   \n",
       "\n",
       "       embarked_C  embarked_Q  embarked_S  \n",
       "count   1111.0000    1111.000   1111.0000  \n",
       "mean       0.2205       0.081      0.6985  \n",
       "std        0.4148       0.273      0.4591  \n",
       "min        0.0000       0.000      0.0000  \n",
       "25%        0.0000       0.000      0.0000  \n",
       "50%        0.0000       0.000      1.0000  \n",
       "75%        0.0000       0.000      1.0000  \n",
       "max        1.0000       1.000      1.0000  "
      ]
     },
     "execution_count": 69,
     "metadata": {},
     "output_type": "execute_result"
    }
   ],
   "source": [
    "titanic_numerical_df.describe()"
   ]
  },
  {
   "cell_type": "markdown",
   "metadata": {
    "deletable": true,
    "editable": true
   },
   "source": [
    "# 7. (Optional) Clustering via a covariance matrix"
   ]
  },
  {
   "cell_type": "markdown",
   "metadata": {
    "deletable": true,
    "editable": true
   },
   "source": [
    "### Scale Transform the `titanic_numerical_df`"
   ]
  },
  {
   "cell_type": "code",
   "execution_count": 70,
   "metadata": {
    "collapsed": false,
    "deletable": true,
    "editable": true
   },
   "outputs": [
    {
     "data": {
      "text/html": [
       "<div>\n",
       "<table border=\"1\" class=\"dataframe\">\n",
       "  <thead>\n",
       "    <tr style=\"text-align: right;\">\n",
       "      <th></th>\n",
       "      <th>pclass</th>\n",
       "      <th>sex</th>\n",
       "      <th>age</th>\n",
       "      <th>sibsp</th>\n",
       "      <th>parch</th>\n",
       "      <th>fare</th>\n",
       "      <th>embarked_C</th>\n",
       "      <th>embarked_Q</th>\n",
       "      <th>embarked_S</th>\n",
       "    </tr>\n",
       "    <tr>\n",
       "      <th>name</th>\n",
       "      <th></th>\n",
       "      <th></th>\n",
       "      <th></th>\n",
       "      <th></th>\n",
       "      <th></th>\n",
       "      <th></th>\n",
       "      <th></th>\n",
       "      <th></th>\n",
       "      <th></th>\n",
       "    </tr>\n",
       "  </thead>\n",
       "  <tbody>\n",
       "    <tr>\n",
       "      <th>Abbing, Mr. Anthony</th>\n",
       "      <td>0.9083</td>\n",
       "      <td>0.7973</td>\n",
       "      <td>0.8798</td>\n",
       "      <td>-0.5407</td>\n",
       "      <td>-0.4753</td>\n",
       "      <td>-0.5283</td>\n",
       "      <td>-0.5317</td>\n",
       "      <td>-0.2968</td>\n",
       "      <td>0.6567</td>\n",
       "    </tr>\n",
       "    <tr>\n",
       "      <th>Abbott, Master. Eugene Joseph</th>\n",
       "      <td>0.9083</td>\n",
       "      <td>0.7973</td>\n",
       "      <td>-1.2199</td>\n",
       "      <td>-0.5407</td>\n",
       "      <td>1.7157</td>\n",
       "      <td>-0.2978</td>\n",
       "      <td>-0.5317</td>\n",
       "      <td>-0.2968</td>\n",
       "      <td>0.6567</td>\n",
       "    </tr>\n",
       "  </tbody>\n",
       "</table>\n",
       "</div>"
      ],
      "text/plain": [
       "                               pclass     sex     age   sibsp   parch    fare  \\\n",
       "name                                                                            \n",
       "Abbing, Mr. Anthony            0.9083  0.7973  0.8798 -0.5407 -0.4753 -0.5283   \n",
       "Abbott, Master. Eugene Joseph  0.9083  0.7973 -1.2199 -0.5407  1.7157 -0.2978   \n",
       "\n",
       "                               embarked_C  embarked_Q  embarked_S  \n",
       "name                                                               \n",
       "Abbing, Mr. Anthony               -0.5317     -0.2968      0.6567  \n",
       "Abbott, Master. Eugene Joseph     -0.5317     -0.2968      0.6567  "
      ]
     },
     "execution_count": 70,
     "metadata": {},
     "output_type": "execute_result"
    }
   ],
   "source": [
    "titanic_scaled = (titanic_numerical_df - titanic_numerical_df.mean())/titanic_numerical_df.std()\n",
    "titanic_scaled.head(2)"
   ]
  },
  {
   "cell_type": "markdown",
   "metadata": {
    "deletable": true,
    "editable": true
   },
   "source": [
    "### Attach a column of `ones` to the scaled `titanic_numerical_df`"
   ]
  },
  {
   "cell_type": "code",
   "execution_count": 71,
   "metadata": {
    "collapsed": true
   },
   "outputs": [],
   "source": [
    "o = np.ones(len(titanic_scaled['age']))"
   ]
  },
  {
   "cell_type": "code",
   "execution_count": 72,
   "metadata": {
    "collapsed": true
   },
   "outputs": [],
   "source": [
    "titanic_scaled['ones'] = o"
   ]
  },
  {
   "cell_type": "code",
   "execution_count": 73,
   "metadata": {
    "collapsed": false
   },
   "outputs": [
    {
     "data": {
      "text/html": [
       "<div>\n",
       "<table border=\"1\" class=\"dataframe\">\n",
       "  <thead>\n",
       "    <tr style=\"text-align: right;\">\n",
       "      <th></th>\n",
       "      <th>pclass</th>\n",
       "      <th>sex</th>\n",
       "      <th>age</th>\n",
       "      <th>sibsp</th>\n",
       "      <th>parch</th>\n",
       "      <th>fare</th>\n",
       "      <th>embarked_C</th>\n",
       "      <th>embarked_Q</th>\n",
       "      <th>embarked_S</th>\n",
       "      <th>ones</th>\n",
       "    </tr>\n",
       "    <tr>\n",
       "      <th>name</th>\n",
       "      <th></th>\n",
       "      <th></th>\n",
       "      <th></th>\n",
       "      <th></th>\n",
       "      <th></th>\n",
       "      <th></th>\n",
       "      <th></th>\n",
       "      <th></th>\n",
       "      <th></th>\n",
       "      <th></th>\n",
       "    </tr>\n",
       "  </thead>\n",
       "  <tbody>\n",
       "    <tr>\n",
       "      <th>Abbing, Mr. Anthony</th>\n",
       "      <td>0.9083</td>\n",
       "      <td>0.7973</td>\n",
       "      <td>0.8798</td>\n",
       "      <td>-0.5407</td>\n",
       "      <td>-0.4753</td>\n",
       "      <td>-0.5283</td>\n",
       "      <td>-0.5317</td>\n",
       "      <td>-0.2968</td>\n",
       "      <td>0.6567</td>\n",
       "      <td>1.0</td>\n",
       "    </tr>\n",
       "    <tr>\n",
       "      <th>Abbott, Master. Eugene Joseph</th>\n",
       "      <td>0.9083</td>\n",
       "      <td>0.7973</td>\n",
       "      <td>-1.2199</td>\n",
       "      <td>-0.5407</td>\n",
       "      <td>1.7157</td>\n",
       "      <td>-0.2978</td>\n",
       "      <td>-0.5317</td>\n",
       "      <td>-0.2968</td>\n",
       "      <td>0.6567</td>\n",
       "      <td>1.0</td>\n",
       "    </tr>\n",
       "    <tr>\n",
       "      <th>Abbott, Mr. Rossmore Edward</th>\n",
       "      <td>0.9083</td>\n",
       "      <td>0.7973</td>\n",
       "      <td>-1.0026</td>\n",
       "      <td>0.5059</td>\n",
       "      <td>0.6202</td>\n",
       "      <td>-0.2978</td>\n",
       "      <td>-0.5317</td>\n",
       "      <td>-0.2968</td>\n",
       "      <td>0.6567</td>\n",
       "      <td>1.0</td>\n",
       "    </tr>\n",
       "    <tr>\n",
       "      <th>Abbott, Mrs. Stanton (Rosa Hunt)</th>\n",
       "      <td>0.9083</td>\n",
       "      <td>-1.2531</td>\n",
       "      <td>0.3730</td>\n",
       "      <td>0.5059</td>\n",
       "      <td>0.6202</td>\n",
       "      <td>-0.2978</td>\n",
       "      <td>-0.5317</td>\n",
       "      <td>-0.2968</td>\n",
       "      <td>0.6567</td>\n",
       "      <td>1.0</td>\n",
       "    </tr>\n",
       "    <tr>\n",
       "      <th>Abelseth, Miss. Karen Marie</th>\n",
       "      <td>0.9083</td>\n",
       "      <td>-1.2531</td>\n",
       "      <td>-1.0026</td>\n",
       "      <td>-0.5407</td>\n",
       "      <td>-0.4753</td>\n",
       "      <td>-0.5265</td>\n",
       "      <td>-0.5317</td>\n",
       "      <td>-0.2968</td>\n",
       "      <td>0.6567</td>\n",
       "      <td>1.0</td>\n",
       "    </tr>\n",
       "  </tbody>\n",
       "</table>\n",
       "</div>"
      ],
      "text/plain": [
       "                                  pclass     sex     age   sibsp   parch  \\\n",
       "name                                                                       \n",
       "Abbing, Mr. Anthony               0.9083  0.7973  0.8798 -0.5407 -0.4753   \n",
       "Abbott, Master. Eugene Joseph     0.9083  0.7973 -1.2199 -0.5407  1.7157   \n",
       "Abbott, Mr. Rossmore Edward       0.9083  0.7973 -1.0026  0.5059  0.6202   \n",
       "Abbott, Mrs. Stanton (Rosa Hunt)  0.9083 -1.2531  0.3730  0.5059  0.6202   \n",
       "Abelseth, Miss. Karen Marie       0.9083 -1.2531 -1.0026 -0.5407 -0.4753   \n",
       "\n",
       "                                    fare  embarked_C  embarked_Q  embarked_S  \\\n",
       "name                                                                           \n",
       "Abbing, Mr. Anthony              -0.5283     -0.5317     -0.2968      0.6567   \n",
       "Abbott, Master. Eugene Joseph    -0.2978     -0.5317     -0.2968      0.6567   \n",
       "Abbott, Mr. Rossmore Edward      -0.2978     -0.5317     -0.2968      0.6567   \n",
       "Abbott, Mrs. Stanton (Rosa Hunt) -0.2978     -0.5317     -0.2968      0.6567   \n",
       "Abelseth, Miss. Karen Marie      -0.5265     -0.5317     -0.2968      0.6567   \n",
       "\n",
       "                                  ones  \n",
       "name                                    \n",
       "Abbing, Mr. Anthony                1.0  \n",
       "Abbott, Master. Eugene Joseph      1.0  \n",
       "Abbott, Mr. Rossmore Edward        1.0  \n",
       "Abbott, Mrs. Stanton (Rosa Hunt)   1.0  \n",
       "Abelseth, Miss. Karen Marie        1.0  "
      ]
     },
     "execution_count": 73,
     "metadata": {},
     "output_type": "execute_result"
    }
   ],
   "source": [
    "titanic_scaled.head()"
   ]
  },
  {
   "cell_type": "markdown",
   "metadata": {
    "deletable": true,
    "editable": true
   },
   "source": [
    "### Build the Covariance Matrix\n",
    "\n",
    "$$ \\text{cov} = A^TA$$"
   ]
  },
  {
   "cell_type": "code",
   "execution_count": 74,
   "metadata": {
    "collapsed": true,
    "deletable": true,
    "editable": true
   },
   "outputs": [],
   "source": [
    "cov = titanic_scaled.T.dot(titanic_scaled)\n"
   ]
  },
  {
   "cell_type": "markdown",
   "metadata": {
    "deletable": true,
    "editable": true
   },
   "source": [
    "### Cluster using the Covariance Matrix"
   ]
  },
  {
   "cell_type": "markdown",
   "metadata": {
    "deletable": true,
    "editable": true
   },
   "source": [
    "1. Generate a $\\beta$ (weights) vector\n",
    "\n",
    "   \\begin{align}\n",
    "   A\\vec{\\beta} &= \\vec{y}\\\\\n",
    "   A^TA\\vec{\\beta} &= A^T\\vec{y}\\\\\n",
    "   \\vec{\\beta} &= (A^TA)^{-1}A^T\\vec{y}\\\\\n",
    "   \\end{align}\n",
    "   \n",
    "   Remember: \n",
    "   \n",
    "      - you use `.T` to take the transpose\n",
    "      - you use `np.linalg.inv` to take the inverse\n",
    "      - you use `np.dot()` to multiply\n",
    "   \n",
    "1. Generate a vector of predictions\n",
    "\n",
    "   $$\\hat{y} = A\\vec{\\beta}$$\n",
    "   \n",
    "1. Plot a scatter plot of your predictions\n",
    "   - use `plt.scatter`\n",
    "   - use `range(len(predictions))` for your x-axis\n",
    "   - color the scatter plot using `y` e.g. `c=y`"
   ]
  },
  {
   "cell_type": "code",
   "execution_count": 75,
   "metadata": {
    "collapsed": false
   },
   "outputs": [],
   "source": [
    "beta = np.linalg.inv(cov).dot(titanic_scaled.T).dot(y)"
   ]
  },
  {
   "cell_type": "code",
   "execution_count": 76,
   "metadata": {
    "collapsed": false
   },
   "outputs": [],
   "source": [
    "predictions = titanic_scaled.dot(beta)"
   ]
  },
  {
   "cell_type": "code",
   "execution_count": 77,
   "metadata": {
    "collapsed": false,
    "deletable": true,
    "editable": true
   },
   "outputs": [
    {
     "data": {
      "text/plain": [
       "<matplotlib.colorbar.Colorbar at 0x7f131021a850>"
      ]
     },
     "execution_count": 77,
     "metadata": {},
     "output_type": "execute_result"
    },
    {
     "data": {
      "image/png": "[encoded data removed]",
      "text/plain": [
       "<matplotlib.figure.Figure at 0x7f1310bc4a90>"
      ]
     },
     "metadata": {},
     "output_type": "display_data"
    }
   ],
   "source": [
    "plt.scatter(range(len(predictions)), predictions, c=y)\n",
    "plt.colorbar()\n"
   ]
  },
  {
   "cell_type": "markdown",
   "metadata": {
    "collapsed": true,
    "deletable": true,
    "editable": true
   },
   "source": [
    "### Discuss the cluster plot"
   ]
  },
  {
   "cell_type": "markdown",
   "metadata": {
    "collapsed": true,
    "deletable": true,
    "editable": true
   },
   "source": [
    "Color of dots indicates actual survival: black dots indicate they survived, white dots died\n",
    "\n",
    "y axis is our predictions for survival of each passenger, where 1.0 indicates prediction that they survived and 0.0 prediction that they died"
   ]
  }
 ],
 "metadata": {
  "kernelspec": {
   "display_name": "Python 2",
   "language": "python",
   "name": "python2"
  },
  "language_info": {
   "codemirror_mode": {
    "name": "ipython",
    "version": 2
   },
   "file_extension": ".py",
   "mimetype": "text/x-python",
   "name": "python",
   "nbconvert_exporter": "python",
   "pygments_lexer": "ipython2",
   "version": "2.7.12"
  }
 },
 "nbformat": 4,
 "nbformat_minor": 2
}
